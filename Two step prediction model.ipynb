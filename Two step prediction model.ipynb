{
 "cells": [
  {
   "cell_type": "code",
   "execution_count": 92,
   "metadata": {},
   "outputs": [],
   "source": [
    "import pandas as pd\n",
    "import numpy as np\n",
    "import matplotlib.pyplot as plt\n",
    "import seaborn as sns\n",
    "import statsmodels.api as sm\n",
    "\n",
    "%matplotlib inline"
   ]
  },
  {
   "cell_type": "code",
   "execution_count": 93,
   "metadata": {},
   "outputs": [
    {
     "data": {
      "text/html": [
       "<div>\n",
       "<style scoped>\n",
       "    .dataframe tbody tr th:only-of-type {\n",
       "        vertical-align: middle;\n",
       "    }\n",
       "\n",
       "    .dataframe tbody tr th {\n",
       "        vertical-align: top;\n",
       "    }\n",
       "\n",
       "    .dataframe thead th {\n",
       "        text-align: right;\n",
       "    }\n",
       "</style>\n",
       "<table border=\"1\" class=\"dataframe\">\n",
       "  <thead>\n",
       "    <tr style=\"text-align: right;\">\n",
       "      <th></th>\n",
       "      <th>ID</th>\n",
       "      <th>Store_id</th>\n",
       "      <th>Store_Type</th>\n",
       "      <th>Location_Type</th>\n",
       "      <th>Region_Code</th>\n",
       "      <th>Date</th>\n",
       "      <th>Holiday</th>\n",
       "      <th>Discount</th>\n",
       "      <th>#Order</th>\n",
       "      <th>Sales</th>\n",
       "    </tr>\n",
       "  </thead>\n",
       "  <tbody>\n",
       "    <tr>\n",
       "      <th>0</th>\n",
       "      <td>T1000001</td>\n",
       "      <td>1</td>\n",
       "      <td>S1</td>\n",
       "      <td>L3</td>\n",
       "      <td>R1</td>\n",
       "      <td>2018-01-01</td>\n",
       "      <td>1</td>\n",
       "      <td>Yes</td>\n",
       "      <td>9</td>\n",
       "      <td>7011.84</td>\n",
       "    </tr>\n",
       "    <tr>\n",
       "      <th>1</th>\n",
       "      <td>T1000002</td>\n",
       "      <td>253</td>\n",
       "      <td>S4</td>\n",
       "      <td>L2</td>\n",
       "      <td>R1</td>\n",
       "      <td>2018-01-01</td>\n",
       "      <td>1</td>\n",
       "      <td>Yes</td>\n",
       "      <td>60</td>\n",
       "      <td>51789.12</td>\n",
       "    </tr>\n",
       "    <tr>\n",
       "      <th>2</th>\n",
       "      <td>T1000003</td>\n",
       "      <td>252</td>\n",
       "      <td>S3</td>\n",
       "      <td>L2</td>\n",
       "      <td>R1</td>\n",
       "      <td>2018-01-01</td>\n",
       "      <td>1</td>\n",
       "      <td>Yes</td>\n",
       "      <td>42</td>\n",
       "      <td>36868.20</td>\n",
       "    </tr>\n",
       "    <tr>\n",
       "      <th>3</th>\n",
       "      <td>T1000004</td>\n",
       "      <td>251</td>\n",
       "      <td>S2</td>\n",
       "      <td>L3</td>\n",
       "      <td>R1</td>\n",
       "      <td>2018-01-01</td>\n",
       "      <td>1</td>\n",
       "      <td>Yes</td>\n",
       "      <td>23</td>\n",
       "      <td>19715.16</td>\n",
       "    </tr>\n",
       "    <tr>\n",
       "      <th>4</th>\n",
       "      <td>T1000005</td>\n",
       "      <td>250</td>\n",
       "      <td>S2</td>\n",
       "      <td>L3</td>\n",
       "      <td>R4</td>\n",
       "      <td>2018-01-01</td>\n",
       "      <td>1</td>\n",
       "      <td>Yes</td>\n",
       "      <td>62</td>\n",
       "      <td>45614.52</td>\n",
       "    </tr>\n",
       "  </tbody>\n",
       "</table>\n",
       "</div>"
      ],
      "text/plain": [
       "         ID  Store_id Store_Type Location_Type Region_Code        Date  \\\n",
       "0  T1000001         1         S1            L3          R1  2018-01-01   \n",
       "1  T1000002       253         S4            L2          R1  2018-01-01   \n",
       "2  T1000003       252         S3            L2          R1  2018-01-01   \n",
       "3  T1000004       251         S2            L3          R1  2018-01-01   \n",
       "4  T1000005       250         S2            L3          R4  2018-01-01   \n",
       "\n",
       "   Holiday Discount  #Order     Sales  \n",
       "0        1      Yes       9   7011.84  \n",
       "1        1      Yes      60  51789.12  \n",
       "2        1      Yes      42  36868.20  \n",
       "3        1      Yes      23  19715.16  \n",
       "4        1      Yes      62  45614.52  "
      ]
     },
     "execution_count": 93,
     "metadata": {},
     "output_type": "execute_result"
    }
   ],
   "source": [
    "df=pd.read_csv(\"C:/Users/sahay/Downloads/TRAIN.csv\")\n",
    "df.head()"
   ]
  },
  {
   "cell_type": "code",
   "execution_count": 94,
   "metadata": {},
   "outputs": [
    {
     "data": {
      "text/plain": [
       "ID               0\n",
       "Store_id         0\n",
       "Store_Type       0\n",
       "Location_Type    0\n",
       "Region_Code      0\n",
       "Date             0\n",
       "Holiday          0\n",
       "Discount         0\n",
       "#Order           0\n",
       "Sales            0\n",
       "dtype: int64"
      ]
     },
     "execution_count": 94,
     "metadata": {},
     "output_type": "execute_result"
    }
   ],
   "source": [
    "df.isnull().sum()"
   ]
  },
  {
   "cell_type": "code",
   "execution_count": 95,
   "metadata": {},
   "outputs": [
    {
     "name": "stdout",
     "output_type": "stream",
     "text": [
      "<class 'pandas.core.frame.DataFrame'>\n",
      "RangeIndex: 188340 entries, 0 to 188339\n",
      "Data columns (total 10 columns):\n",
      " #   Column         Non-Null Count   Dtype  \n",
      "---  ------         --------------   -----  \n",
      " 0   ID             188340 non-null  object \n",
      " 1   Store_id       188340 non-null  int64  \n",
      " 2   Store_Type     188340 non-null  object \n",
      " 3   Location_Type  188340 non-null  object \n",
      " 4   Region_Code    188340 non-null  object \n",
      " 5   Date           188340 non-null  object \n",
      " 6   Holiday        188340 non-null  int64  \n",
      " 7   Discount       188340 non-null  object \n",
      " 8   #Order         188340 non-null  int64  \n",
      " 9   Sales          188340 non-null  float64\n",
      "dtypes: float64(1), int64(3), object(6)\n",
      "memory usage: 14.4+ MB\n"
     ]
    }
   ],
   "source": [
    "df. info()"
   ]
  },
  {
   "cell_type": "code",
   "execution_count": 96,
   "metadata": {},
   "outputs": [
    {
     "data": {
      "text/plain": [
       "Index(['id', 'store_id', 'store_type', 'location_type', 'region_code', 'date',\n",
       "       'holiday', 'discount', '#order', 'sales'],\n",
       "      dtype='object')"
      ]
     },
     "execution_count": 96,
     "metadata": {},
     "output_type": "execute_result"
    }
   ],
   "source": [
    "df.columns=df.columns.str.lower()\n",
    "df.columns"
   ]
  },
  {
   "cell_type": "code",
   "execution_count": 97,
   "metadata": {},
   "outputs": [],
   "source": [
    "#converting the store-id to str since we want this column to be categorical\n",
    "df['store_id']=df['store_id'].astype(str)\n",
    "#converting the data column to proper datetime format\n",
    "df['date']=pd.to_datetime(df['date'])"
   ]
  },
  {
   "cell_type": "code",
   "execution_count": 98,
   "metadata": {},
   "outputs": [],
   "source": [
    "#creating new features\n",
    "df['day']=df['date'].dt.dayofweek\n",
    "df['month']=df['date'].dt.month\n",
    "df['qtr']=df['date'].dt.quarter\n",
    "df['day1']=df['date'].dt.day\n",
    "df['day_count'] = (df['date'] - df['date'].min()).dt.days\n",
    "#creating a new column weekend\n",
    "df['is_weekend'] = df['day'].apply(lambda x: 1 if x >= 5 else 0)"
   ]
  },
  {
   "cell_type": "code",
   "execution_count": 99,
   "metadata": {},
   "outputs": [],
   "source": [
    "#converting discount to proper categorical data type\n",
    "df['discount']=df['discount'].map({'Yes':1,'No':0})"
   ]
  },
  {
   "cell_type": "code",
   "execution_count": 100,
   "metadata": {},
   "outputs": [],
   "source": [
    "X=df.drop(['id','date','#order','sales'],axis=1)\n",
    "y=df['#order']"
   ]
  },
  {
   "cell_type": "code",
   "execution_count": 101,
   "metadata": {},
   "outputs": [],
   "source": [
    "\n",
    "from sklearn.preprocessing import OneHotEncoder, StandardScaler\n",
    "from sklearn.compose import ColumnTransformer\n",
    "from sklearn.pipeline import Pipeline"
   ]
  },
  {
   "cell_type": "code",
   "execution_count": 102,
   "metadata": {},
   "outputs": [
    {
     "name": "stdout",
     "output_type": "stream",
     "text": [
      "<class 'pandas.core.frame.DataFrame'>\n",
      "RangeIndex: 188340 entries, 0 to 188339\n",
      "Data columns (total 16 columns):\n",
      " #   Column         Non-Null Count   Dtype         \n",
      "---  ------         --------------   -----         \n",
      " 0   id             188340 non-null  object        \n",
      " 1   store_id       188340 non-null  object        \n",
      " 2   store_type     188340 non-null  object        \n",
      " 3   location_type  188340 non-null  object        \n",
      " 4   region_code    188340 non-null  object        \n",
      " 5   date           188340 non-null  datetime64[ns]\n",
      " 6   holiday        188340 non-null  int64         \n",
      " 7   discount       188340 non-null  int64         \n",
      " 8   #order         188340 non-null  int64         \n",
      " 9   sales          188340 non-null  float64       \n",
      " 10  day            188340 non-null  int32         \n",
      " 11  month          188340 non-null  int32         \n",
      " 12  qtr            188340 non-null  int32         \n",
      " 13  day1           188340 non-null  int32         \n",
      " 14  day_count      188340 non-null  int64         \n",
      " 15  is_weekend     188340 non-null  int64         \n",
      "dtypes: datetime64[ns](1), float64(1), int32(4), int64(5), object(5)\n",
      "memory usage: 20.1+ MB\n"
     ]
    }
   ],
   "source": [
    "df.info()"
   ]
  },
  {
   "cell_type": "code",
   "execution_count": 103,
   "metadata": {},
   "outputs": [],
   "source": [
    "# Step 4: Identifying numerical and categorical columns\n",
    "numerical_cols = ['holiday', 'discount', 'day', 'month', 'qtr','is_weekend','day1','day_count']\n",
    "categorical_cols = ['store_id', 'store_type', 'location_type', 'region_code']  # 'store_id' treated as categorical\n"
   ]
  },
  {
   "cell_type": "code",
   "execution_count": 104,
   "metadata": {},
   "outputs": [],
   "source": [
    "preprocessor = ColumnTransformer(\n",
    "    transformers=[\n",
    "        ('num', StandardScaler(), numerical_cols),  # Standardize numerical columns\n",
    "        ('cat', OneHotEncoder(drop='first'), categorical_cols)  # One-hot encode categorical columns\n",
    "    ])"
   ]
  },
  {
   "cell_type": "code",
   "execution_count": 105,
   "metadata": {},
   "outputs": [],
   "source": [
    "X=preprocessor.fit_transform(X)"
   ]
  },
  {
   "cell_type": "code",
   "execution_count": 106,
   "metadata": {},
   "outputs": [],
   "source": [
    "from sklearn.model_selection import train_test_split\n",
    "X_train,X_test,y_train,y_test=train_test_split(X,y,test_size=0.2,random_state = 42)"
   ]
  },
  {
   "cell_type": "code",
   "execution_count": 107,
   "metadata": {},
   "outputs": [
    {
     "name": "stdout",
     "output_type": "stream",
     "text": [
      "(150672, 382)\n",
      "(37668, 382)\n",
      "(150672,)\n",
      "(37668,)\n"
     ]
    }
   ],
   "source": [
    "print(X_train.shape)\n",
    "print(X_test.shape)\n",
    "print(y_train.shape)\n",
    "print(y_test.shape)"
   ]
  },
  {
   "cell_type": "code",
   "execution_count": 108,
   "metadata": {},
   "outputs": [],
   "source": [
    "from sklearn.linear_model import LinearRegression\n",
    "from sklearn.ensemble import RandomForestRegressor\n",
    "from sklearn.ensemble import GradientBoostingRegressor\n",
    "from xgboost import XGBRegressor\n",
    "from sklearn.tree import DecisionTreeRegressor\n",
    "from sklearn.linear_model import Lasso\n",
    "from sklearn.linear_model import Ridge\n"
   ]
  },
  {
   "cell_type": "code",
   "execution_count": 109,
   "metadata": {},
   "outputs": [],
   "source": [
    "#importing the necessary performance metrics\n",
    "from sklearn.metrics import mean_absolute_error, mean_squared_error, r2_score\n",
    "\n"
   ]
  },
  {
   "cell_type": "code",
   "execution_count": 110,
   "metadata": {},
   "outputs": [],
   "source": [
    "#creating instance for the class\n",
    "models={\n",
    "    'lr' : LinearRegression(),\n",
    "    'rf' : RandomForestRegressor(),\n",
    "    'gb' : GradientBoostingRegressor(),\n",
    "    'xgb' : XGBRegressor(),\n",
    "    'dt' : DecisionTreeRegressor(),\n",
    "    'l1' : Lasso(),\n",
    "    'l2' : Ridge()\n",
    "\n",
    "}"
   ]
  },
  {
   "cell_type": "code",
   "execution_count": 111,
   "metadata": {},
   "outputs": [
    {
     "name": "stdout",
     "output_type": "stream",
     "text": [
      "lr\n",
      "Model Performance for Training Set\n",
      " - MAE: 10.5988\n",
      " - MSE: 236.3967\n",
      " - R2 Score: 0.7453\n",
      "-------------------------------------------\n",
      "Model Performance for Test Set\n",
      " - MAE: 10.6414\n",
      " - MSE: 235.6623\n",
      " - R2 Score: 0.7464\n",
      "===================================\n",
      "\n",
      "\n",
      "rf\n",
      "Model Performance for Training Set\n",
      " - MAE: 3.1083\n",
      " - MSE: 21.5985\n",
      " - R2 Score: 0.9767\n",
      "-------------------------------------------\n",
      "Model Performance for Test Set\n",
      " - MAE: 8.4246\n",
      " - MSE: 153.5648\n",
      " - R2 Score: 0.8348\n",
      "===================================\n",
      "\n",
      "\n",
      "gb\n",
      "Model Performance for Training Set\n",
      " - MAE: 11.4399\n",
      " - MSE: 255.3839\n",
      " - R2 Score: 0.7248\n",
      "-------------------------------------------\n",
      "Model Performance for Test Set\n",
      " - MAE: 11.4634\n",
      " - MSE: 257.5735\n",
      " - R2 Score: 0.7228\n",
      "===================================\n",
      "\n",
      "\n",
      "xgb\n",
      "Model Performance for Training Set\n",
      " - MAE: 8.7971\n",
      " - MSE: 152.0078\n",
      " - R2 Score: 0.8362\n",
      "-------------------------------------------\n",
      "Model Performance for Test Set\n",
      " - MAE: 9.1460\n",
      " - MSE: 167.0866\n",
      " - R2 Score: 0.8202\n",
      "===================================\n",
      "\n",
      "\n",
      "dt\n",
      "Model Performance for Training Set\n",
      " - MAE: 0.0000\n",
      " - MSE: 0.0000\n",
      " - R2 Score: 1.0000\n",
      "-------------------------------------------\n",
      "Model Performance for Test Set\n",
      " - MAE: 10.6306\n",
      " - MSE: 253.0879\n",
      " - R2 Score: 0.7277\n",
      "===================================\n",
      "\n",
      "\n",
      "l1\n",
      "Model Performance for Training Set\n",
      " - MAE: 13.5512\n",
      " - MSE: 383.6163\n",
      " - R2 Score: 0.5866\n",
      "-------------------------------------------\n",
      "Model Performance for Test Set\n",
      " - MAE: 13.6342\n",
      " - MSE: 387.8198\n",
      " - R2 Score: 0.5827\n",
      "===================================\n",
      "\n",
      "\n",
      "l2\n",
      "Model Performance for Training Set\n",
      " - MAE: 10.5990\n",
      " - MSE: 236.4022\n",
      " - R2 Score: 0.7452\n",
      "-------------------------------------------\n",
      "Model Performance for Test Set\n",
      " - MAE: 10.6411\n",
      " - MSE: 235.6591\n",
      " - R2 Score: 0.7464\n",
      "===================================\n",
      "\n",
      "\n"
     ]
    }
   ],
   "source": [
    "model_list=[]\n",
    "Accuracy=[]\n",
    "\n",
    "for i in  range(len(list(models))):\n",
    "    model = list(models.values())[i]\n",
    "    model.fit(X_train,y_train)\n",
    "\n",
    "    #Making Predictions\n",
    "    y_train_pred=model.predict(X_train)\n",
    "    y_test_pred = model.predict(X_test)\n",
    "\n",
    "    #Training set performance\n",
    "    mae_train = mean_absolute_error(y_train,y_train_pred)\n",
    "    mse_train = mean_squared_error(y_train,y_train_pred)\n",
    "    r2_train = r2_score(y_train,y_train_pred)\n",
    "\n",
    "    #Test Set Performance\n",
    "    mae_test = mean_absolute_error(y_test,y_test_pred)\n",
    "    mse_test = mean_squared_error(y_test,y_test_pred)\n",
    "    r2_test = r2_score(y_test,y_test_pred)\n",
    "\n",
    "    print(list(models.keys())[i])\n",
    "    model_list.append(list(models.keys())[i])\n",
    "\n",
    "\n",
    "    print('Model Performance for Training Set')\n",
    "    print(\" - MAE: {:.4f}\".format(mae_train))\n",
    "    print(\" - MSE: {:.4f}\".format(mse_train))\n",
    "    print(\" - R2 Score: {:.4f}\".format(r2_train))\n",
    "\n",
    "    print ('-------------------------------------------')\n",
    "    print('Model Performance for Test Set')\n",
    "    print(\" - MAE: {:.4f}\".format(mae_test))\n",
    "    print(\" - MSE: {:.4f}\".format(mse_test))\n",
    "    print(\" - R2 Score: {:.4f}\".format(r2_test))\n",
    "\n",
    "    print('='*35)\n",
    "    print('\\n')\n",
    "\n"
   ]
  },
  {
   "cell_type": "code",
   "execution_count": 112,
   "metadata": {},
   "outputs": [],
   "source": [
    "params= {\n",
    "    'n_estimators': [5,10,20,50,70,100,200,250,300,350,400,450],\n",
    "    'max_depth': [3, 4, 5, 6, 7],\n",
    "\n",
    "    'learning_rate':[0.3,0.4,0.6,0.8,0.9,1.0,2.0],\n",
    "    'booster':['gbtree'],\n",
    "          \n",
    "}\n"
   ]
  },
  {
   "cell_type": "code",
   "execution_count": 113,
   "metadata": {},
   "outputs": [
    {
     "data": {
      "text/plain": [
       "[('xgb',\n",
       "  XGBRegressor(base_score=None, booster=None, callbacks=None,\n",
       "               colsample_bylevel=None, colsample_bynode=None,\n",
       "               colsample_bytree=None, device=None, early_stopping_rounds=None,\n",
       "               enable_categorical=False, eval_metric=None, feature_types=None,\n",
       "               gamma=None, grow_policy=None, importance_type=None,\n",
       "               interaction_constraints=None, learning_rate=None, max_bin=None,\n",
       "               max_cat_threshold=None, max_cat_to_onehot=None,\n",
       "               max_delta_step=None, max_depth=None, max_leaves=None,\n",
       "               min_child_weight=None, missing=nan, monotone_constraints=None,\n",
       "               multi_strategy=None, n_estimators=None, n_jobs=None,\n",
       "               num_parallel_tree=None, random_state=None, ...),\n",
       "  {'n_estimators': [5, 10, 20, 50, 70, 100, 200, 250, 300, 350, 400, 450],\n",
       "   'max_depth': [3, 4, 5, 6, 7],\n",
       "   'learning_rate': [0.3, 0.4, 0.6, 0.8, 0.9, 1.0, 2.0],\n",
       "   'booster': ['gbtree']})]"
      ]
     },
     "execution_count": 113,
     "metadata": {},
     "output_type": "execute_result"
    }
   ],
   "source": [
    "randomcv_models = [\n",
    "    ('xgb',XGBRegressor(),params)\n",
    "]\n",
    "randomcv_models"
   ]
  },
  {
   "cell_type": "code",
   "execution_count": 114,
   "metadata": {},
   "outputs": [
    {
     "name": "stdout",
     "output_type": "stream",
     "text": [
      "-------------------- Best Params for xgb-----------\n",
      "{'n_estimators': 450, 'max_depth': 4, 'learning_rate': 0.6, 'booster': 'gbtree'}\n"
     ]
    }
   ],
   "source": [
    "from sklearn.model_selection import RandomizedSearchCV\n",
    "\n",
    "model_param = {}\n",
    "for name,model,params in randomcv_models:\n",
    "        random = RandomizedSearchCV(estimator = model,\n",
    "                           param_distributions = params,\n",
    "                           n_iter = 100,\n",
    "                           scoring = 'neg_mean_squared_error',\n",
    "                           cv=3)\n",
    "    \n",
    "        random.fit(X_train,y_train)\n",
    "        model_param[name]= random.best_params_\n",
    "    \n",
    "for model_name in model_param:\n",
    "    print(f\"-------------------- Best Params for {model_name}-----------\")\n",
    "    print(model_param[model_name])"
   ]
  },
  {
   "cell_type": "code",
   "execution_count": 120,
   "metadata": {},
   "outputs": [],
   "source": [
    "\n",
    "random.fit(X_train,y_train)\n",
    "\n",
    "# Predict orders\n",
    "predicted_orders = random.predict(X)\n",
    "df['predicted_orders'] = predicted_orders"
   ]
  },
  {
   "cell_type": "code",
   "execution_count": 116,
   "metadata": {},
   "outputs": [],
   "source": [
    "X_sales = df[['predicted_orders', 'holiday', 'discount', 'day', 'month', 'qtr', 'is_weekend', 'day1', 'day_count',\n",
    "              'store_id', 'store_type', 'location_type', 'region_code']]\n",
    "y_sales = df['sales']\n",
    "\n",
    "# Preprocessing\n",
    "X_sales = preprocessor.fit_transform(X_sales)"
   ]
  },
  {
   "cell_type": "code",
   "execution_count": 117,
   "metadata": {},
   "outputs": [],
   "source": [
    "X_train_sales, X_test_sales, y_train_sales, y_test_sales = train_test_split(X_sales, y_sales, test_size=0.2, random_state=42)\n"
   ]
  },
  {
   "cell_type": "code",
   "execution_count": 121,
   "metadata": {},
   "outputs": [],
   "source": [
    "# Predicting Sales\n",
    "random.fit(X_train_sales,y_train_sales)\n",
    "df['predicted_sales'] =random.predict(X_sales)"
   ]
  },
  {
   "cell_type": "code",
   "execution_count": 122,
   "metadata": {},
   "outputs": [
    {
     "data": {
      "text/plain": [
       "0.8742869624195531"
      ]
     },
     "execution_count": 122,
     "metadata": {},
     "output_type": "execute_result"
    }
   ],
   "source": [
    "r2 = r2_score(y_sales, df['predicted_sales'])\n",
    "r2"
   ]
  },
  {
   "cell_type": "code",
   "execution_count": 74,
   "metadata": {},
   "outputs": [
    {
     "data": {
      "text/plain": [
       "0.8285684546246751"
      ]
     },
     "execution_count": 74,
     "metadata": {},
     "output_type": "execute_result"
    }
   ],
   "source": [
    "random.fit(X_train,y_train)\n",
    "y_pred = random.predict(X_test)\n",
    "r2_score(y_pred,y_test)"
   ]
  },
  {
   "cell_type": "code",
   "execution_count": null,
   "metadata": {},
   "outputs": [],
   "source": []
  }
 ],
 "metadata": {
  "kernelspec": {
   "display_name": "base",
   "language": "python",
   "name": "python3"
  },
  "language_info": {
   "codemirror_mode": {
    "name": "ipython",
    "version": 3
   },
   "file_extension": ".py",
   "mimetype": "text/x-python",
   "name": "python",
   "nbconvert_exporter": "python",
   "pygments_lexer": "ipython3",
   "version": "3.12.4"
  }
 },
 "nbformat": 4,
 "nbformat_minor": 2
}
