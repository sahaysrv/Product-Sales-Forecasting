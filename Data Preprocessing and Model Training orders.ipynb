{
 "cells": [
  {
   "cell_type": "code",
   "execution_count": 1,
   "metadata": {},
   "outputs": [],
   "source": [
    "import pandas as pd\n",
    "import numpy as np\n",
    "import matplotlib.pyplot as plt\n",
    "import seaborn as sns\n",
    "import statsmodels.api as sm\n",
    "\n",
    "%matplotlib inline"
   ]
  },
  {
   "cell_type": "code",
   "execution_count": 2,
   "metadata": {},
   "outputs": [
    {
     "data": {
      "text/html": [
       "<div>\n",
       "<style scoped>\n",
       "    .dataframe tbody tr th:only-of-type {\n",
       "        vertical-align: middle;\n",
       "    }\n",
       "\n",
       "    .dataframe tbody tr th {\n",
       "        vertical-align: top;\n",
       "    }\n",
       "\n",
       "    .dataframe thead th {\n",
       "        text-align: right;\n",
       "    }\n",
       "</style>\n",
       "<table border=\"1\" class=\"dataframe\">\n",
       "  <thead>\n",
       "    <tr style=\"text-align: right;\">\n",
       "      <th></th>\n",
       "      <th>ID</th>\n",
       "      <th>Store_id</th>\n",
       "      <th>Store_Type</th>\n",
       "      <th>Location_Type</th>\n",
       "      <th>Region_Code</th>\n",
       "      <th>Date</th>\n",
       "      <th>Holiday</th>\n",
       "      <th>Discount</th>\n",
       "      <th>#Order</th>\n",
       "      <th>Sales</th>\n",
       "    </tr>\n",
       "  </thead>\n",
       "  <tbody>\n",
       "    <tr>\n",
       "      <th>0</th>\n",
       "      <td>T1000001</td>\n",
       "      <td>1</td>\n",
       "      <td>S1</td>\n",
       "      <td>L3</td>\n",
       "      <td>R1</td>\n",
       "      <td>2018-01-01</td>\n",
       "      <td>1</td>\n",
       "      <td>Yes</td>\n",
       "      <td>9</td>\n",
       "      <td>7011.84</td>\n",
       "    </tr>\n",
       "    <tr>\n",
       "      <th>1</th>\n",
       "      <td>T1000002</td>\n",
       "      <td>253</td>\n",
       "      <td>S4</td>\n",
       "      <td>L2</td>\n",
       "      <td>R1</td>\n",
       "      <td>2018-01-01</td>\n",
       "      <td>1</td>\n",
       "      <td>Yes</td>\n",
       "      <td>60</td>\n",
       "      <td>51789.12</td>\n",
       "    </tr>\n",
       "    <tr>\n",
       "      <th>2</th>\n",
       "      <td>T1000003</td>\n",
       "      <td>252</td>\n",
       "      <td>S3</td>\n",
       "      <td>L2</td>\n",
       "      <td>R1</td>\n",
       "      <td>2018-01-01</td>\n",
       "      <td>1</td>\n",
       "      <td>Yes</td>\n",
       "      <td>42</td>\n",
       "      <td>36868.20</td>\n",
       "    </tr>\n",
       "    <tr>\n",
       "      <th>3</th>\n",
       "      <td>T1000004</td>\n",
       "      <td>251</td>\n",
       "      <td>S2</td>\n",
       "      <td>L3</td>\n",
       "      <td>R1</td>\n",
       "      <td>2018-01-01</td>\n",
       "      <td>1</td>\n",
       "      <td>Yes</td>\n",
       "      <td>23</td>\n",
       "      <td>19715.16</td>\n",
       "    </tr>\n",
       "    <tr>\n",
       "      <th>4</th>\n",
       "      <td>T1000005</td>\n",
       "      <td>250</td>\n",
       "      <td>S2</td>\n",
       "      <td>L3</td>\n",
       "      <td>R4</td>\n",
       "      <td>2018-01-01</td>\n",
       "      <td>1</td>\n",
       "      <td>Yes</td>\n",
       "      <td>62</td>\n",
       "      <td>45614.52</td>\n",
       "    </tr>\n",
       "  </tbody>\n",
       "</table>\n",
       "</div>"
      ],
      "text/plain": [
       "         ID  Store_id Store_Type Location_Type Region_Code        Date  \\\n",
       "0  T1000001         1         S1            L3          R1  2018-01-01   \n",
       "1  T1000002       253         S4            L2          R1  2018-01-01   \n",
       "2  T1000003       252         S3            L2          R1  2018-01-01   \n",
       "3  T1000004       251         S2            L3          R1  2018-01-01   \n",
       "4  T1000005       250         S2            L3          R4  2018-01-01   \n",
       "\n",
       "   Holiday Discount  #Order     Sales  \n",
       "0        1      Yes       9   7011.84  \n",
       "1        1      Yes      60  51789.12  \n",
       "2        1      Yes      42  36868.20  \n",
       "3        1      Yes      23  19715.16  \n",
       "4        1      Yes      62  45614.52  "
      ]
     },
     "execution_count": 2,
     "metadata": {},
     "output_type": "execute_result"
    }
   ],
   "source": [
    "df=pd.read_csv(\"C:/Users/sahay/Downloads/TRAIN.csv\")\n",
    "df.head()"
   ]
  },
  {
   "cell_type": "code",
   "execution_count": 3,
   "metadata": {},
   "outputs": [
    {
     "data": {
      "text/plain": [
       "ID               0\n",
       "Store_id         0\n",
       "Store_Type       0\n",
       "Location_Type    0\n",
       "Region_Code      0\n",
       "Date             0\n",
       "Holiday          0\n",
       "Discount         0\n",
       "#Order           0\n",
       "Sales            0\n",
       "dtype: int64"
      ]
     },
     "execution_count": 3,
     "metadata": {},
     "output_type": "execute_result"
    }
   ],
   "source": [
    "df.isnull().sum()"
   ]
  },
  {
   "cell_type": "code",
   "execution_count": 4,
   "metadata": {},
   "outputs": [
    {
     "name": "stdout",
     "output_type": "stream",
     "text": [
      "<class 'pandas.core.frame.DataFrame'>\n",
      "RangeIndex: 188340 entries, 0 to 188339\n",
      "Data columns (total 10 columns):\n",
      " #   Column         Non-Null Count   Dtype  \n",
      "---  ------         --------------   -----  \n",
      " 0   ID             188340 non-null  object \n",
      " 1   Store_id       188340 non-null  int64  \n",
      " 2   Store_Type     188340 non-null  object \n",
      " 3   Location_Type  188340 non-null  object \n",
      " 4   Region_Code    188340 non-null  object \n",
      " 5   Date           188340 non-null  object \n",
      " 6   Holiday        188340 non-null  int64  \n",
      " 7   Discount       188340 non-null  object \n",
      " 8   #Order         188340 non-null  int64  \n",
      " 9   Sales          188340 non-null  float64\n",
      "dtypes: float64(1), int64(3), object(6)\n",
      "memory usage: 14.4+ MB\n"
     ]
    }
   ],
   "source": [
    "df. info()"
   ]
  },
  {
   "cell_type": "code",
   "execution_count": 5,
   "metadata": {},
   "outputs": [
    {
     "data": {
      "text/plain": [
       "Index(['id', 'store_id', 'store_type', 'location_type', 'region_code', 'date',\n",
       "       'holiday', 'discount', '#order', 'sales'],\n",
       "      dtype='object')"
      ]
     },
     "execution_count": 5,
     "metadata": {},
     "output_type": "execute_result"
    }
   ],
   "source": [
    "df.columns=df.columns.str.lower()\n",
    "df.columns"
   ]
  },
  {
   "cell_type": "code",
   "execution_count": 6,
   "metadata": {},
   "outputs": [],
   "source": [
    "#converting the store-id to str since we want this column to be categorical\n",
    "df['store_id']=df['store_id'].astype(str)\n",
    "#converting the data column to proper datetime format\n",
    "df['date']=pd.to_datetime(df['date'])"
   ]
  },
  {
   "cell_type": "code",
   "execution_count": 7,
   "metadata": {},
   "outputs": [],
   "source": [
    "#creating new features\n",
    "df['day']=df['date'].dt.dayofweek\n",
    "df['month']=df['date'].dt.month\n",
    "df['qtr']=df['date'].dt.quarter\n",
    "#creating a new column weekend\n",
    "df['is_weekend'] = df['day'].apply(lambda x: 1 if x >= 5 else 0)"
   ]
  },
  {
   "cell_type": "code",
   "execution_count": 8,
   "metadata": {},
   "outputs": [],
   "source": [
    "#converting discount to proper categorical data type\n",
    "df['discount']=df['discount'].map({'Yes':1,'No':0})"
   ]
  },
  {
   "cell_type": "code",
   "execution_count": 20,
   "metadata": {},
   "outputs": [
    {
     "name": "stdout",
     "output_type": "stream",
     "text": [
      "<class 'pandas.core.frame.DataFrame'>\n",
      "RangeIndex: 188340 entries, 0 to 188339\n",
      "Data columns (total 14 columns):\n",
      " #   Column         Non-Null Count   Dtype         \n",
      "---  ------         --------------   -----         \n",
      " 0   id             188340 non-null  object        \n",
      " 1   store_id       188340 non-null  object        \n",
      " 2   store_type     188340 non-null  object        \n",
      " 3   location_type  188340 non-null  object        \n",
      " 4   region_code    188340 non-null  object        \n",
      " 5   date           188340 non-null  datetime64[ns]\n",
      " 6   holiday        188340 non-null  int64         \n",
      " 7   discount       188340 non-null  int64         \n",
      " 8   #order         188340 non-null  int64         \n",
      " 9   sales          188340 non-null  float64       \n",
      " 10  day            188340 non-null  int32         \n",
      " 11  month          188340 non-null  int32         \n",
      " 12  qtr            188340 non-null  int32         \n",
      " 13  is_weekend     188340 non-null  int64         \n",
      "dtypes: datetime64[ns](1), float64(1), int32(3), int64(4), object(5)\n",
      "memory usage: 18.0+ MB\n"
     ]
    }
   ],
   "source": [
    "df.info()"
   ]
  },
  {
   "cell_type": "code",
   "execution_count": 9,
   "metadata": {},
   "outputs": [],
   "source": [
    "#separating target variable\n",
    "X=df.drop(['sales','id','date'],axis=1)\n",
    "y=df['sales']"
   ]
  },
  {
   "cell_type": "code",
   "execution_count": 10,
   "metadata": {},
   "outputs": [],
   "source": [
    "# Step 4: Identifying numerical and categorical columns\n",
    "numerical_cols = ['holiday','#order', 'discount', 'day', 'month', 'qtr','is_weekend']\n",
    "categorical_cols = ['store_id', 'store_type', 'location_type', 'region_code']  # 'store_id' treated as categorical\n"
   ]
  },
  {
   "cell_type": "code",
   "execution_count": 11,
   "metadata": {},
   "outputs": [],
   "source": [
    "\n",
    "from sklearn.preprocessing import OneHotEncoder, StandardScaler\n",
    "from sklearn.compose import ColumnTransformer\n",
    "from sklearn.pipeline import Pipeline"
   ]
  },
  {
   "cell_type": "code",
   "execution_count": 12,
   "metadata": {},
   "outputs": [],
   "source": [
    "preprocessor = ColumnTransformer(\n",
    "    transformers=[\n",
    "        ('num', StandardScaler(), numerical_cols),  # Standardize numerical columns\n",
    "        ('cat', OneHotEncoder(drop='first'), categorical_cols)  # One-hot encode categorical columns\n",
    "    ])"
   ]
  },
  {
   "cell_type": "code",
   "execution_count": 13,
   "metadata": {},
   "outputs": [],
   "source": [
    "X=preprocessor.fit_transform(X)"
   ]
  },
  {
   "cell_type": "code",
   "execution_count": 14,
   "metadata": {},
   "outputs": [
    {
     "name": "stdout",
     "output_type": "stream",
     "text": [
      "(188340, 381)\n",
      "(188340,)\n"
     ]
    }
   ],
   "source": [
    "print(X.shape)\n",
    "print(y.shape)"
   ]
  },
  {
   "cell_type": "markdown",
   "metadata": {},
   "source": [
    "#### Splitting the dataset in train and test set"
   ]
  },
  {
   "cell_type": "code",
   "execution_count": 15,
   "metadata": {},
   "outputs": [],
   "source": [
    "from sklearn.model_selection import train_test_split\n",
    "X_train,X_test,y_train,y_test=train_test_split(X,y,test_size=0.2,random_state = 42)"
   ]
  },
  {
   "cell_type": "code",
   "execution_count": 16,
   "metadata": {},
   "outputs": [],
   "source": [
    "from sklearn.linear_model import LinearRegression\n",
    "from sklearn.ensemble import RandomForestRegressor\n",
    "from sklearn.ensemble import GradientBoostingRegressor\n",
    "from xgboost import XGBRegressor\n",
    "from sklearn.tree import DecisionTreeRegressor\n",
    "from sklearn.linear_model import Lasso\n",
    "from sklearn.linear_model import Ridge\n"
   ]
  },
  {
   "cell_type": "code",
   "execution_count": 17,
   "metadata": {},
   "outputs": [],
   "source": [
    "#importing the necessary performance metrics\n",
    "from sklearn.metrics import mean_absolute_error, mean_squared_error, r2_score\n",
    "\n"
   ]
  },
  {
   "cell_type": "code",
   "execution_count": 18,
   "metadata": {},
   "outputs": [],
   "source": [
    "#creating instance for the class\n",
    "models={\n",
    "    'lr' : LinearRegression(),\n",
    "    'rf' : RandomForestRegressor(),\n",
    "    'gb' : GradientBoostingRegressor(),\n",
    "    'xgb' : XGBRegressor(),\n",
    "    'dt' : DecisionTreeRegressor(),\n",
    "    'l1' : Lasso(),\n",
    "    'l2' : Ridge()\n",
    "\n",
    "}"
   ]
  },
  {
   "cell_type": "code",
   "execution_count": 19,
   "metadata": {},
   "outputs": [
    {
     "name": "stdout",
     "output_type": "stream",
     "text": [
      "lr\n",
      "Model Performance for Training Set\n",
      " - MAE: 3103.3839\n",
      " - MSE: 17920357.9665\n",
      " - R2 Score: 0.9475\n",
      "-------------------------------------------\n",
      "Model Performance for Test Set\n",
      " - MAE: 3108.2821\n",
      " - MSE: 18220010.0349\n",
      " - R2 Score: 0.9461\n",
      "===================================\n",
      "\n",
      "\n",
      "rf\n",
      "Model Performance for Training Set\n",
      " - MAE: 817.4554\n",
      " - MSE: 1654423.5481\n",
      " - R2 Score: 0.9952\n",
      "-------------------------------------------\n",
      "Model Performance for Test Set\n",
      " - MAE: 2139.1747\n",
      " - MSE: 11211202.8417\n",
      " - R2 Score: 0.9668\n",
      "===================================\n",
      "\n",
      "\n",
      "gb\n",
      "Model Performance for Training Set\n",
      " - MAE: 2957.6532\n",
      " - MSE: 17013157.1199\n",
      " - R2 Score: 0.9502\n",
      "-------------------------------------------\n",
      "Model Performance for Test Set\n",
      " - MAE: 2991.4902\n",
      " - MSE: 17521497.5506\n",
      " - R2 Score: 0.9482\n",
      "===================================\n",
      "\n",
      "\n",
      "xgb\n",
      "Model Performance for Training Set\n",
      " - MAE: 2050.7442\n",
      " - MSE: 9090006.3540\n",
      " - R2 Score: 0.9734\n",
      "-------------------------------------------\n",
      "Model Performance for Test Set\n",
      " - MAE: 2132.5732\n",
      " - MSE: 10188388.4907\n",
      " - R2 Score: 0.9699\n",
      "===================================\n",
      "\n",
      "\n",
      "dt\n",
      "Model Performance for Training Set\n",
      " - MAE: 57.0643\n",
      " - MSE: 161446.9626\n",
      " - R2 Score: 0.9995\n",
      "-------------------------------------------\n",
      "Model Performance for Test Set\n",
      " - MAE: 2743.0492\n",
      " - MSE: 18972960.5270\n",
      " - R2 Score: 0.9439\n",
      "===================================\n",
      "\n",
      "\n",
      "l1\n",
      "Model Performance for Training Set\n",
      " - MAE: 3107.3823\n",
      " - MSE: 18055872.2054\n",
      " - R2 Score: 0.9471\n",
      "-------------------------------------------\n",
      "Model Performance for Test Set\n",
      " - MAE: 3115.4800\n",
      " - MSE: 18390356.2910\n",
      " - R2 Score: 0.9456\n",
      "===================================\n",
      "\n",
      "\n",
      "l2\n",
      "Model Performance for Training Set\n",
      " - MAE: 3103.3666\n",
      " - MSE: 17920847.1199\n",
      " - R2 Score: 0.9475\n",
      "-------------------------------------------\n",
      "Model Performance for Test Set\n",
      " - MAE: 3108.2885\n",
      " - MSE: 18221248.8140\n",
      " - R2 Score: 0.9461\n",
      "===================================\n",
      "\n",
      "\n"
     ]
    }
   ],
   "source": [
    "model_list=[]\n",
    "Accuracy=[]\n",
    "\n",
    "for i in  range(len(list(models))):\n",
    "    model = list(models.values())[i]\n",
    "    model.fit(X_train,y_train)\n",
    "\n",
    "    #Making Predictions\n",
    "    y_train_pred=model.predict(X_train)\n",
    "    y_test_pred = model.predict(X_test)\n",
    "\n",
    "    #Training set performance\n",
    "    mae_train = mean_absolute_error(y_train,y_train_pred)\n",
    "    mse_train = mean_squared_error(y_train,y_train_pred)\n",
    "    r2_train = r2_score(y_train,y_train_pred)\n",
    "\n",
    "    #Test Set Performance\n",
    "    mae_test = mean_absolute_error(y_test,y_test_pred)\n",
    "    mse_test = mean_squared_error(y_test,y_test_pred)\n",
    "    r2_test = r2_score(y_test,y_test_pred)\n",
    "\n",
    "    print(list(models.keys())[i])\n",
    "    model_list.append(list(models.keys())[i])\n",
    "\n",
    "\n",
    "    print('Model Performance for Training Set')\n",
    "    print(\" - MAE: {:.4f}\".format(mae_train))\n",
    "    print(\" - MSE: {:.4f}\".format(mse_train))\n",
    "    print(\" - R2 Score: {:.4f}\".format(r2_train))\n",
    "\n",
    "    print ('-------------------------------------------')\n",
    "    print('Model Performance for Test Set')\n",
    "    print(\" - MAE: {:.4f}\".format(mae_test))\n",
    "    print(\" - MSE: {:.4f}\".format(mse_test))\n",
    "    print(\" - R2 Score: {:.4f}\".format(r2_test))\n",
    "\n",
    "    print('='*35)\n",
    "    print('\\n')\n",
    "\n"
   ]
  }
 ],
 "metadata": {
  "kernelspec": {
   "display_name": "base",
   "language": "python",
   "name": "python3"
  },
  "language_info": {
   "codemirror_mode": {
    "name": "ipython",
    "version": 3
   },
   "file_extension": ".py",
   "mimetype": "text/x-python",
   "name": "python",
   "nbconvert_exporter": "python",
   "pygments_lexer": "ipython3",
   "version": "3.12.4"
  }
 },
 "nbformat": 4,
 "nbformat_minor": 2
}
